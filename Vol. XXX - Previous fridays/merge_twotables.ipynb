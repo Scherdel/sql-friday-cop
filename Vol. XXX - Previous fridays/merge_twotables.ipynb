{
    "metadata": {
        "kernelspec": {
            "name": "SQL",
            "display_name": "SQL",
            "language": "sql"
        },
        "language_info": {
            "name": "sql",
            "version": ""
        }
    },
    "nbformat_minor": 2,
    "nbformat": 4,
    "cells": [
        {
            "cell_type": "markdown",
            "source": [
                "# Merge two tables\r\n",
                "\r\n",
                "## Description\r\n",
                "\r\n",
                "Our database administrator was contacted to merge the data from a new staging table, with updated, deleted and inserted values, into an old production table.\r\n",
                "Values which haven´t been changed should stay the same.\r\n",
                "\r\n",
                "## Requirements\r\n",
                "\r\n",
                "In this example we are going to work with the AdventureWorks database every SQL-Professional knows.\r\n",
                "\r\n",
                "## Preparation\r\n",
                "\r\n",
                "We need to prepare two tables with the same structure and different data."
            ],
            "metadata": {
                "azdata_cell_guid": "585a8f52-fb43-4c8e-996e-4511fee671a0"
            }
        },
        {
            "cell_type": "code",
            "source": [
                "-- Create two tables with data to merge\r\n",
                "\r\n",
                "-- Use AdventureWorks database\r\n",
                "USE AdventureWorks2017;\r\n",
                "\r\n",
                "-- Drop tables if exists\r\n",
                "DROP TABLE IF EXISTS Production.Beer_Prod;\r\n",
                "DROP TABLE IF EXISTS Production.Beer_Staging;\r\n",
                "\r\n",
                "-- create new tables\r\n",
                "CREATE TABLE Production.Beer_Prod (\r\n",
                "    id INT PRIMARY KEY,\r\n",
                "    brand VARCHAR(255) NOT NULL,\r\n",
                "    amount DECIMAL(10, 2)\r\n",
                ");\r\n",
                "\r\n",
                "CREATE TABLE Production.Beer_Staging (\r\n",
                "    id INT PRIMARY KEY,\r\n",
                "    brand VARCHAR(255) NOT NULL,\r\n",
                "    amount DECIMAL(10, 2)\r\n",
                ");\r\n",
                "\r\n",
                "-- fill tables with data\r\n",
                "INSERT INTO Production.Beer_Prod VALUES (1, 'Nothhaft Urrr-Hellll', 1000);\r\n",
                "INSERT INTO Production.Beer_Prod VALUES (2, 'Langbraeu Spezial', 1500);\r\n",
                "INSERT INTO Production.Beer_Prod VALUES (3, 'Gambrinus Zoigl', 1280);\r\n",
                "INSERT INTO Production.Beer_Prod VALUES (4, 'Masel Wesse', 100000);\r\n",
                "INSERT INTO Production.Beer_Prod VALUES (1000, 'Graefs Pflaume', 1000);\r\n",
                "\r\n",
                "INSERT INTO Production.Beer_Staging VALUES (1, 'Nothhaft Ur-Hell', 1000);\r\n",
                "INSERT INTO Production.Beer_Staging VALUES (2, 'Langbraeu Spezial', 1500);\r\n",
                "INSERT INTO Production.Beer_Staging VALUES (3, 'Gambrinus Zoigl', 1300);\r\n",
                "INSERT INTO Production.Beer_Staging VALUES (4, 'Maisels Weisse', 2000);\r\n",
                "INSERT INTO Production.Beer_Staging VALUES (5, 'Langbraeu Spezial', 1500);"
            ],
            "metadata": {
                "azdata_cell_guid": "5f497089-f549-4963-8c3d-9f881a97cb1a",
                "tags": [
                    "hide_input"
                ]
            },
            "outputs": [],
            "execution_count": 7
        },
        {
            "cell_type": "markdown",
            "source": [
                "Now lets select our data and think about what to do.\r\n",
                "\r\n",
                "In the end the production table should contain all values from staging."
            ],
            "metadata": {
                "azdata_cell_guid": "4a0834c7-1bbb-4b08-8d14-a8f99a9e58a2"
            }
        },
        {
            "cell_type": "code",
            "source": [
                "-- select created data\r\n",
                "\r\n",
                "-- Use AdventureWorks database\r\n",
                "USE AdventureWorks2017;\r\n",
                "\r\n",
                "-- select all entries\r\n",
                "SELECT * FROM Production.Beer_Prod;\r\n",
                "SELECT * FROM Production.Beer_Staging;"
            ],
            "metadata": {
                "azdata_cell_guid": "e66800cf-228c-4ba6-b9ee-e54f1f4adf76",
                "tags": [
                    "hide_input"
                ]
            },
            "outputs": [],
            "execution_count": 8
        },
        {
            "cell_type": "markdown",
            "source": [
                "## Solution\r\n",
                "\r\n",
                "### What to do with the data\r\n",
                "\r\n",
                "Lets think which id´s are different and what to do with them. For a better understanding first lets define which table is source and which is target.\r\n",
                "\r\n",
                "**Production.Beer_Staging** is ``source`` and **Production.Beer_Prod** is ``target``.\r\n",
                "\r\n",
                "Now there are different cases for each id:\r\n",
                "\r\n",
                "- The source table has rows that do not exist in target table. In this case, you have to ``insert`` rows from source to target.\r\n",
                "- The target table has rows that do not exist in source table. In this case, you have to ``delete`` rows from target.\r\n",
                "- The source table has rows with the same id as in target table. However, these rows have different values, you need to ``update`` the target with the source values.\r\n",
                "\r\n",
                ""
            ],
            "metadata": {
                "azdata_cell_guid": "46f77359-ef2c-4da0-bf52-e94fdea4a104"
            }
        },
        {
            "cell_type": "markdown",
            "source": [
                "![title](img_merge/Merge_Overview.png)"
            ],
            "metadata": {
                "azdata_cell_guid": "0f58e5ae-b717-45be-aa3a-dd8e98fe8091"
            }
        },
        {
            "cell_type": "markdown",
            "source": [
                "You can solve this by using 3 different statements. SQL Server provides the ``MERGE`` statement that allows to perfom this at the same time.\r\n",
                "\r\n",
                "The following lines show the syntax of this statement."
            ],
            "metadata": {
                "azdata_cell_guid": "ad07deb3-69ad-4e7d-bc7d-2ae5a8637c89"
            }
        },
        {
            "cell_type": "code",
            "source": [
                "MERGE target USING source\r\n",
                "ON merge_condition\r\n",
                "WHEN MATCHED\r\n",
                "    THEN update_statement\r\n",
                "WHEN NOT MATCHED BY TARGET\r\n",
                "    THEN insert_statement\r\n",
                "WHEN NOT MATCHED BY SOURCE\r\n",
                "    THEN DELETE;"
            ],
            "metadata": {
                "azdata_cell_guid": "e5a70741-add7-4ff8-af30-d2860ba454df",
                "tags": [
                    "hide_input"
                ]
            },
            "outputs": [],
            "execution_count": 0
        },
        {
            "cell_type": "markdown",
            "source": [
                "Here we have to add that the 3 results are optional. You can perform a merge statement only with ``MATCHED`` and ``NOT MATCHED BY TARGET`` or other combinations too."
            ],
            "metadata": {
                "azdata_cell_guid": "1cc2378d-5901-4de2-ab1e-c90e8405b930"
            }
        },
        {
            "cell_type": "markdown",
            "source": [
                "### Merge our example data\r\n",
                "\r\n",
                "Now we are merging our example data."
            ],
            "metadata": {
                "azdata_cell_guid": "45a6f925-a1c1-436c-9b8e-262c46ea1573"
            }
        },
        {
            "cell_type": "code",
            "source": [
                "-- merge our tables\r\n",
                "\r\n",
                "-- Use AdventureWorks database\r\n",
                "USE AdventureWorks2017;\r\n",
                "\r\n",
                "-- merge our data\r\n",
                "MERGE Production.Beer_Prod prod\r\n",
                "    USING Production.Beer_Staging stage\r\n",
                "ON (prod.id = stage.id)\r\n",
                "WHEN MATCHED\r\n",
                "    THEN UPDATE SET\r\n",
                "        prod.brand = stage.brand,\r\n",
                "        prod.amount = stage.amount\r\n",
                "WHEN NOT MATCHED BY TARGET\r\n",
                "    THEN INSERT VALUES (stage.id, stage.brand, stage.amount)\r\n",
                "WHEN NOT MATCHED BY SOURCE\r\n",
                "    THEN DELETE;"
            ],
            "metadata": {
                "azdata_cell_guid": "8bbc6b27-2a05-4fa4-8ebd-49ffdad60b64",
                "tags": [
                    "hide_input"
                ]
            },
            "outputs": [],
            "execution_count": 9
        },
        {
            "cell_type": "markdown",
            "source": [
                "Lets select our data to verify the result."
            ],
            "metadata": {
                "azdata_cell_guid": "7cc6e64e-71c8-48b6-bc19-a7761b210592"
            }
        },
        {
            "cell_type": "code",
            "source": [
                "-- merge our tables\r\n",
                "\r\n",
                "-- Use AdventureWorks database\r\n",
                "USE AdventureWorks2017;\r\n",
                "\r\n",
                "-- select data\r\n",
                "SELECT * FROM Production.Beer_Prod;"
            ],
            "metadata": {
                "azdata_cell_guid": "c7f289ba-e9c9-49af-8586-90c3abb8d14a",
                "tags": [
                    "hide_input"
                ]
            },
            "outputs": [],
            "execution_count": 10
        },
        {
            "cell_type": "markdown",
            "source": [
                "## Cleanup"
            ],
            "metadata": {
                "azdata_cell_guid": "6b2f856d-483d-4450-80b7-1dba41bd7d1f"
            }
        },
        {
            "cell_type": "code",
            "source": [
                "--cleanup\r\n",
                "\r\n",
                "USE AdventureWorks2017;\r\n",
                "\r\n",
                "DROP TABLE Production.Beer_Prod;\r\n",
                "DROP TABLE Production.Beer_Staging;"
            ],
            "metadata": {
                "azdata_cell_guid": "bbec23e5-8d96-4101-ab39-ca2acd173636",
                "tags": [
                    "hide_input"
                ]
            },
            "outputs": [],
            "execution_count": 11
        }
    ]
}