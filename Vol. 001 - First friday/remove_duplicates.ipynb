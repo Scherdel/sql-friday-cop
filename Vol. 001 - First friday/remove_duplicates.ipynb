{
    "metadata": {
        "kernelspec": {
            "name": "SQL",
            "display_name": "SQL",
            "language": "sql"
        },
        "language_info": {
            "name": "sql",
            "version": ""
        }
    },
    "nbformat_minor": 2,
    "nbformat": 4,
    "cells": [
        {
            "cell_type": "markdown",
            "source": [
                "# Delete duplicate rows on a table\r\n",
                "\r\n",
                "## Description\r\n",
                "\r\n",
                "We received a database from our junior developer. Everything works fine and the application is doing well. After a few weeks our senior developer for DataWareHouse asked us for some help. He imported duplicated data from our application. Now it´s our turn to solve the problem.\r\n",
                "\r\n",
                "## Requirements\r\n",
                "\r\n",
                "In this example we are going to work with the AdventureWorks database every SQL-Professional knows.\r\n",
                "\r\n",
                "## Preparation\r\n",
                "\r\n",
                "We need to prepare a special table with duplicated data.\r\n",
                ""
            ],
            "metadata": {
                "azdata_cell_guid": "3ed5c121-7aea-4cc2-badf-473e2b10c7bb"
            }
        },
        {
            "cell_type": "code",
            "source": [
                "-- Create database with duplicates\r\n",
                "\r\n",
                "-- Use AdventureWorks database\r\n",
                "USE AdventureWorks2017;\r\n",
                "\r\n",
                "-- Drop table if exists\r\n",
                "DROP TABLE IF EXISTS Person.Person_Copy;\r\n",
                "\r\n",
                "-- create new table\r\n",
                "CREATE TABLE Person.Person_Copy\r\n",
                "(\r\n",
                "    [BusinessEntityID] [int] NOT NULL,\r\n",
                "    [FirstName] [dbo].[Name] NOT NULL,\r\n",
                "    [LastName] [dbo].[Name] NOT NULL\r\n",
                ") ON [PRIMARY]\r\n",
                "\r\n",
                "-- fill table with data\r\n",
                "INSERT INTO Person.Person_Copy VALUES (1, 'Bob', 'Smith')\r\n",
                "INSERT INTO Person.Person_Copy VALUES (2, 'Dave', 'Jones')\r\n",
                "INSERT INTO Person.Person_Copy VALUES (3, 'Karen', 'White')\r\n",
                "INSERT INTO Person.Person_Copy VALUES (1, 'Bob', 'Smith')"
            ],
            "metadata": {
                "azdata_cell_guid": "e1e886e6-b65c-4563-9ac9-42a39fd765bd",
                "tags": [
                    "hide_input"
                ]
            },
            "outputs": [],
            "execution_count": 1
        },
        {
            "cell_type": "markdown",
            "source": [
                "Now lets select out testdata to confirm that there is a duplicate row."
            ],
            "metadata": {
                "azdata_cell_guid": "fce6417f-59b2-4f39-b504-b5bbb0d8c7e4"
            }
        },
        {
            "cell_type": "code",
            "source": [
                "-- select created data\r\n",
                "\r\n",
                "-- Use AdventureWorks database\r\n",
                "USE AdventureWorks2017;\r\n",
                "\r\n",
                "-- select all entries\r\n",
                "SELECT * FROM Person.Person_Copy;"
            ],
            "metadata": {
                "azdata_cell_guid": "152c0228-8608-4a8c-835a-5a67fb8e991c",
                "tags": [
                    "hide_input"
                ]
            },
            "outputs": [],
            "execution_count": 2
        },
        {
            "cell_type": "markdown",
            "source": [
                "## Solution\r\n",
                "\r\n",
                "### How to find duplicate records in a table\r\n",
                "\r\n",
                "First we have to find the records which are duplicated"
            ],
            "metadata": {
                "azdata_cell_guid": "2fe4ca88-b36f-40ea-a20a-7346bd0cff6a"
            }
        },
        {
            "cell_type": "code",
            "source": [
                "-- select duplicated rows\r\n",
                "USE AdventureWorks2017;\r\n",
                "\r\n",
                "SELECT \r\n",
                "    BusinessEntityID,\r\n",
                "    FirstName,\r\n",
                "    LastName,\r\n",
                "    COUNT(*) occurrences\r\n",
                "FROM Person.Person_Copy\r\n",
                "GROUP BY \r\n",
                "    BusinessEntityID, \r\n",
                "    FirstName,\r\n",
                "    LastName\r\n",
                "HAVING\r\n",
                "    COUNT(*) > 1\r\n",
                "ORDER BY\r\n",
                "    occurrences desc;"
            ],
            "metadata": {
                "azdata_cell_guid": "2d77af5f-5f22-4790-9bbf-db4f42f67f92",
                "tags": [
                    "hide_input"
                ]
            },
            "outputs": [],
            "execution_count": 7
        },
        {
            "cell_type": "markdown",
            "source": [
                "How it works\r\n",
                "\r\n",
                "1. The ``GROUP BY`` clause groups the rows into groups by values in ``BusinessEntityID``, ``FirstName`` and ``LastName`` columns.\r\n",
                "2. The ``COUNT()`` function returns the number of occurrences of each group (BusinessEntityID, FirstName, LastName).\r\n",
                "3. The ``HAVING`` clause keeps only duplicate groups, which are groups that have more than one occurrence.\r\n",
                "4. The ``ORDER BY`` orders the result.\r\n",
                "\r\n",
                "### Remove duplicates\r\n",
                "\r\n",
                "We found our duplicated record and now we have to remove it.\r\n",
                "\r\n",
                "Let´s select all duplicates."
            ],
            "metadata": {
                "azdata_cell_guid": "0e80592a-ef7d-4860-84bc-e32d85f1238a"
            }
        },
        {
            "cell_type": "code",
            "source": [
                "-- select all duplicates\r\n",
                "\r\n",
                "USE AdventureWorks2017;\r\n",
                "\r\n",
                "SELECT * FROM Person.Person_Copy\r\n",
                "WHERE BusinessEntityID = 1\r\n",
                "AND FirstName = 'Bob'\r\n",
                "AND LastName = 'Smith';"
            ],
            "metadata": {
                "azdata_cell_guid": "ce6a0507-4c40-4d7d-9340-505d0dc19bb1",
                "tags": [
                    "hide_input"
                ]
            },
            "outputs": [],
            "execution_count": 8
        },
        {
            "cell_type": "markdown",
            "source": [
                "Now we can remove the first result record with ``TOP`` and select the persons again. To control we select the occurrences for our record."
            ],
            "metadata": {
                "azdata_cell_guid": "125e7387-306c-4908-aed8-846ea631af92"
            }
        },
        {
            "cell_type": "code",
            "source": [
                "-- delete the first entry\r\n",
                "\r\n",
                "USE AdventureWorks2017;\r\n",
                "\r\n",
                "DELETE TOP(1) FROM Person.Person_Copy\r\n",
                "WHERE BusinessEntityID = 1\r\n",
                "AND FirstName = 'Bob'\r\n",
                "AND LastName = 'Smith';\r\n",
                "\r\n",
                "SELECT * FROM Person.Person_Copy;\r\n",
                "\r\n",
                "SELECT \r\n",
                "    BusinessEntityID,\r\n",
                "    FirstName,\r\n",
                "    LastName,\r\n",
                "    COUNT(*) occurrences\r\n",
                "FROM\r\n",
                "    Person.Person_Copy\r\n",
                "WHERE \r\n",
                "    BusinessEntityID = 1\r\n",
                "    AND FirstName = 'Bob'\r\n",
                "    AND LastName = 'Smith'\r\n",
                "GROUP BY \r\n",
                "    BusinessEntityID, \r\n",
                "    FirstName,\r\n",
                "    LastName"
            ],
            "metadata": {
                "azdata_cell_guid": "f83a2c4f-775e-40ea-b8c2-233e3c36c13f",
                "tags": [
                    "hide_input"
                ]
            },
            "outputs": [],
            "execution_count": 9
        },
        {
            "cell_type": "markdown",
            "source": [
                "When you find more than two duplicates there is another way to remove all duplicates with one statement. The statement above only removes one duplicate."
            ],
            "metadata": {
                "azdata_cell_guid": "75abd7d4-730a-4392-b33f-76ecbbeea33c"
            }
        },
        {
            "cell_type": "code",
            "source": [
                "-- Create table with more than two duplicates\r\n",
                "\r\n",
                "-- Use AdventureWorks database\r\n",
                "USE AdventureWorks2017;\r\n",
                "\r\n",
                "-- Drop table if exists\r\n",
                "DROP TABLE IF EXISTS Person.Person_Copy;\r\n",
                "\r\n",
                "-- create new table\r\n",
                "CREATE TABLE Person.Person_Copy\r\n",
                "(\r\n",
                "    [BusinessEntityID] [int] NOT NULL,\r\n",
                "    [FirstName] [dbo].[Name] NOT NULL,\r\n",
                "    [LastName] [dbo].[Name] NOT NULL\r\n",
                ") ON [PRIMARY]\r\n",
                "\r\n",
                "-- fill table with data\r\n",
                "INSERT INTO Person.Person_Copy VALUES (2, 'Dave', 'Jones')\r\n",
                "INSERT INTO Person.Person_Copy VALUES (1, 'Bob', 'Smith')\r\n",
                "INSERT INTO Person.Person_Copy VALUES (2, 'Dave', 'Jones')\r\n",
                "INSERT INTO Person.Person_Copy VALUES (2, 'Dave', 'Jones')\r\n",
                "INSERT INTO Person.Person_Copy VALUES (3, 'Karen', 'White')\r\n",
                "INSERT INTO Person.Person_Copy VALUES (2, 'Dave', 'Jones')\r\n",
                "INSERT INTO Person.Person_Copy VALUES (2, 'Dave', 'Jones')\r\n",
                "INSERT INTO Person.Person_Copy VALUES (2, 'Dave', 'Jones')\r\n",
                "INSERT INTO Person.Person_Copy VALUES (2, 'Dave', 'Jones')"
            ],
            "metadata": {
                "azdata_cell_guid": "39f3c662-b2c3-4087-bb80-d42a12660914",
                "tags": [
                    "hide_input"
                ]
            },
            "outputs": [],
            "execution_count": 10
        },
        {
            "cell_type": "code",
            "source": [
                "-- select duplicated row\r\n",
                "USE AdventureWorks2017;\r\n",
                "\r\n",
                "SELECT \r\n",
                "    BusinessEntityID,\r\n",
                "    FirstName,\r\n",
                "    LastName,\r\n",
                "    COUNT(*) occurrences\r\n",
                "FROM Person.Person_Copy\r\n",
                "GROUP BY \r\n",
                "    BusinessEntityID, \r\n",
                "    FirstName,\r\n",
                "    LastName\r\n",
                "HAVING\r\n",
                "    COUNT(*) > 1;"
            ],
            "metadata": {
                "azdata_cell_guid": "aec2c456-4210-4d16-907c-aea840a815b7",
                "tags": [
                    "hide_input"
                ]
            },
            "outputs": [],
            "execution_count": 11
        },
        {
            "cell_type": "code",
            "source": [
                "-- select all duplicates\r\n",
                "\r\n",
                "USE AdventureWorks2017;\r\n",
                "\r\n",
                "SELECT * FROM Person.Person_Copy\r\n",
                "WHERE BusinessEntityID = 2\r\n",
                "AND FirstName = 'Dave'\r\n",
                "AND LastName = 'Jones';"
            ],
            "metadata": {
                "azdata_cell_guid": "dfc5627a-4cb1-4de3-b6e6-49bc9910a051",
                "tags": [
                    "hide_input"
                ]
            },
            "outputs": [],
            "execution_count": 12
        },
        {
            "cell_type": "code",
            "source": [
                "-- remove all duplicates\r\n",
                "\r\n",
                "USE AdventureWorks2017;\r\n",
                "\r\n",
                "DELETE TOP(SELECT COUNT(*) -1 FROM Person.Person_Copy WHERE BusinessEntityID = 2) FROM Person.Person_Copy\r\n",
                "WHERE BusinessEntityID = 2\r\n",
                "AND FirstName = 'Dave'\r\n",
                "AND LastName = 'Jones';\r\n",
                "\r\n",
                "SELECT * FROM Person.Person_Copy;\r\n",
                "\r\n",
                "SELECT \r\n",
                "    BusinessEntityID,\r\n",
                "    FirstName,\r\n",
                "    LastName,\r\n",
                "    COUNT(*) occurrences\r\n",
                "FROM\r\n",
                "    Person.Person_Copy\r\n",
                "WHERE \r\n",
                "    BusinessEntityID = 2\r\n",
                "    AND FirstName = 'Dave'\r\n",
                "    AND LastName = 'Jones'\r\n",
                "GROUP BY \r\n",
                "    BusinessEntityID, \r\n",
                "    FirstName,\r\n",
                "    LastName"
            ],
            "metadata": {
                "azdata_cell_guid": "52d5f6a9-ee0a-4a44-8da1-87408a7232b6",
                "tags": [
                    "hide_input"
                ]
            },
            "outputs": [],
            "execution_count": 13
        },
        {
            "cell_type": "markdown",
            "source": [
                "## How to avoid this\r\n",
                "\r\n",
                "You can avoid duplicated entries by setting a primary key.\r\n",
                "\r\n",
                ""
            ],
            "metadata": {
                "azdata_cell_guid": "86218585-8d5e-4874-a1d8-b9a6b5bf62a4"
            }
        },
        {
            "cell_type": "code",
            "source": [
                "-- Create table with more than two duplicates\r\n",
                "\r\n",
                "-- Use AdventureWorks database\r\n",
                "USE AdventureWorks2017;\r\n",
                "\r\n",
                "-- Drop table if exists\r\n",
                "DROP TABLE IF EXISTS Person.Person_Copy;\r\n",
                "\r\n",
                "-- create new table\r\n",
                "CREATE TABLE Person.Person_Copy\r\n",
                "(\r\n",
                "    [BusinessEntityID] [int] NOT NULL,\r\n",
                "    [FirstName] [dbo].[Name] NOT NULL,\r\n",
                "    [LastName] [dbo].[Name] NOT NULL\r\n",
                ") ON [PRIMARY]\r\n",
                "\r\n",
                "-- fill table with data\r\n",
                "INSERT INTO Person.Person_Copy VALUES (2, 'Dave', 'Jones')\r\n",
                "INSERT INTO Person.Person_Copy VALUES (1, 'Bob', 'Smith')\r\n",
                "INSERT INTO Person.Person_Copy VALUES (2, 'Dave', 'Jones')\r\n",
                "INSERT INTO Person.Person_Copy VALUES (2, 'Dave', 'Jones')\r\n",
                "INSERT INTO Person.Person_Copy VALUES (3, 'Karen', 'White')\r\n",
                "INSERT INTO Person.Person_Copy VALUES (2, 'Dave', 'Jones')\r\n",
                "INSERT INTO Person.Person_Copy VALUES (2, 'Dave', 'Jones')\r\n",
                "INSERT INTO Person.Person_Copy VALUES (2, 'Dave', 'Jones')\r\n",
                "INSERT INTO Person.Person_Copy VALUES (2, 'Dave', 'Jones')"
            ],
            "metadata": {
                "azdata_cell_guid": "6e5e914b-4d8b-454b-a2e5-33b00d3f4441",
                "tags": [
                    "hide_input"
                ]
            },
            "outputs": [],
            "execution_count": 14
        },
        {
            "cell_type": "code",
            "source": [
                "-- Set primary key\r\n",
                "\r\n",
                "-- Use AdventureWorks database\r\n",
                "USE AdventureWorks2017;\r\n",
                "\r\n",
                "-- Alter table with primary key\r\n",
                "\r\n",
                "ALTER TABLE Person.Person_Copy\r\n",
                "ADD CONSTRAINT personcopy_pk PRIMARY KEY (BusinessEntityID, FirstName, LastName);"
            ],
            "metadata": {
                "azdata_cell_guid": "397ae5a8-b91f-4978-a71b-da6fdd5f588e",
                "tags": [
                    "hide_input"
                ]
            },
            "outputs": [],
            "execution_count": 15
        },
        {
            "cell_type": "markdown",
            "source": [
                "You have to remove duplicated records before creating a primary key."
            ],
            "metadata": {
                "azdata_cell_guid": "86d9a977-2142-45b4-b19c-15ab0592d17c"
            }
        },
        {
            "cell_type": "code",
            "source": [
                "-- remove all duplicates\r\n",
                "\r\n",
                "USE AdventureWorks2017;\r\n",
                "\r\n",
                "DELETE TOP(SELECT COUNT(*) -1 FROM Person.Person_Copy WHERE BusinessEntityID = 2) FROM Person.Person_Copy\r\n",
                "WHERE BusinessEntityID = 2\r\n",
                "AND FirstName = 'Dave'\r\n",
                "AND LastName = 'Jones';\r\n",
                "\r\n",
                "SELECT * FROM Person.Person_Copy;\r\n",
                "\r\n",
                "SELECT \r\n",
                "    BusinessEntityID,\r\n",
                "    FirstName,\r\n",
                "    LastName,\r\n",
                "    COUNT(*) occurrences\r\n",
                "FROM\r\n",
                "    Person.Person_Copy\r\n",
                "WHERE \r\n",
                "    BusinessEntityID = 2\r\n",
                "    AND FirstName = 'Dave'\r\n",
                "    AND LastName = 'Jones'\r\n",
                "GROUP BY \r\n",
                "    BusinessEntityID, \r\n",
                "    FirstName,\r\n",
                "    LastName"
            ],
            "metadata": {
                "azdata_cell_guid": "4ed2c28a-6c9b-43e7-bd1b-d6ad85c4d932",
                "tags": [
                    "hide_input"
                ]
            },
            "outputs": [],
            "execution_count": 16
        },
        {
            "cell_type": "code",
            "source": [
                "-- Set primary key\r\n",
                "\r\n",
                "-- Use AdventureWorks database\r\n",
                "USE AdventureWorks2017;\r\n",
                "\r\n",
                "-- Alter table with primary key\r\n",
                "ALTER TABLE Person.Person_Copy\r\n",
                "ADD CONSTRAINT personcopy_pk PRIMARY KEY (BusinessEntityID, FirstName, LastName);"
            ],
            "metadata": {
                "azdata_cell_guid": "497adeab-8c69-4ac1-b916-8cf78b40f391",
                "tags": [
                    "hide_input"
                ]
            },
            "outputs": [],
            "execution_count": 17
        },
        {
            "cell_type": "markdown",
            "source": [
                "The primary key prevents the user adding duplicated records."
            ],
            "metadata": {
                "azdata_cell_guid": "e30c3d49-356e-44d2-82cc-14d5ae55a5fa"
            }
        },
        {
            "cell_type": "code",
            "source": [
                "-- Try to add a duplicate\r\n",
                "\r\n",
                "-- Use AdventureWorks database\r\n",
                "USE AdventureWorks2017;\r\n",
                "\r\n",
                "-- try to add duplicate\r\n",
                "INSERT INTO Person.Person_Copy VALUES (2, 'Dave', 'Jones')"
            ],
            "metadata": {
                "azdata_cell_guid": "0c8b5279-578b-413f-a404-a35e7c6737c8",
                "tags": [
                    "hide_input"
                ]
            },
            "outputs": [],
            "execution_count": 18
        },
        {
            "cell_type": "code",
            "source": [
                "-- cleanup\r\n",
                "\r\n",
                "USE AdventureWorks2017;\r\n",
                "\r\n",
                "DROP TABLE Person.Person_Copy;"
            ],
            "metadata": {
                "azdata_cell_guid": "6c79a8ed-2423-4a23-bcca-c2ea5be4680d",
                "tags": [
                    "hide_input"
                ]
            },
            "outputs": [],
            "execution_count": 19
        }
    ]
}