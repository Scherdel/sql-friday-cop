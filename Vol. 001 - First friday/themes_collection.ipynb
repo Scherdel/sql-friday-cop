{
    "metadata": {
        "kernelspec": {
            "name": "SQL",
            "display_name": "SQL",
            "language": "sql"
        },
        "language_info": {
            "name": "sql",
            "version": ""
        }
    },
    "nbformat_minor": 2,
    "nbformat": 4,
    "cells": [
        {
            "cell_type": "markdown",
            "source": [
                "# Themensammlung\r\n",
                "\r\n",
                "## Norbert Böhm\r\n",
                "\r\n",
                "- Tips und Tricks im Umgang mit SQL-Server\r\n",
                "- Selects mit Subselects richtig aufbauen\r\n",
                "- Möglichkeit des Monitorings von Datenbanken und Server\r\n",
                "\r\n",
                "## Oliver Kost\r\n",
                "\r\n",
                "- Wissen über SQL-Server Versionen (ab 2008) aufbauen\r\n",
                "- Queryverarbeitung bei neueren SQL-Server\r\n",
                "- Azure (Übersicht, Vorteile, Nachteile)\r\n",
                "- Welche Tools gibt es um mit SQL-Server zu arbeiten?\r\n",
                "- Performanceoptimierung\r\n",
                "- OLAP-Cubes\r\n",
                "- PowerBI - Welche Funktionen gibt es, was ist möglich?\r\n",
                "- Lobster\r\n",
                "\r\n",
                "## Horst Fröber\r\n",
                "\r\n",
                "- Performanceoptimierungen\r\n",
                "- Spezifische Funktionen der SQL-Server Versionen\r\n",
                "\r\n",
                "## Jürgen Kirmaß\r\n",
                "\r\n",
                "- Performanceoptimierung\r\n",
                "- Standard festlegen - Wie wollen wir im Bereich SQL-Server arbeiten (einheitliche Lösungen)\r\n",
                "- Übersicht neuer Reportprozess\r\n",
                "\r\n",
                "## Benjamin Schenk\r\n",
                "\r\n",
                "- Power-BI (Tabellen anzapfen)\r\n",
                "- SSIS (neue Platform mit Visual Studio)\r\n",
                "- ZappySys Tools \r\n",
                "- Automatisiertes Testen SSIS\r\n",
                "- Oracle vs. Microsoft\r\n",
                "- Verschiedenen Datenbanken im Bereich SQL kennenlernen\r\n",
                "- Verschiedene Scripts in eine Sammlung packen\r\n",
                "- Vorstellung Monitoring\r\n",
                "- Automatisierte Datenbankmigration mit DBUp\r\n",
                "- Replikation\r\n",
                "- Connect by -> Oracle -> Wie löse ich das in MSSQL\r\n",
                "- Merge-Statement\r\n",
                "- SQL-Server 2019\r\n",
                "\r\n",
                "## Freimut Pöhlmann\r\n",
                "\r\n",
                "- Oracle\r\n",
                "- Formatierungen (Zeit / Datumsformate)\r\n",
                "- Anbindungen der Datenbanken (DevArt Tools / OLEDB / ADO.NET) - Performanceanalyse / Vergleich\r\n",
                "\r\n",
                "## Wolfgang Kellerer\r\n",
                "\r\n",
                "- Performanceoptimierung - Ausführungspläne lesen\r\n",
                "- Bedingungen in der WHERE\r\n",
                "- SQL-Abfragen übergreifend (Datenbankübergreifend / Serverübergreifend) - Oracle und MSSQL\r\n",
                "- GroupBy Cube - Oracle -> Gibt es ein Gegenstück auf MSSQL?"
            ],
            "metadata": {
                "azdata_cell_guid": "b569a3de-69d8-4690-a749-d1a8cc5e3fc5"
            }
        }
    ]
}